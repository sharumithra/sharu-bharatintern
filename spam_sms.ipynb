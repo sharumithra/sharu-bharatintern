{
  "nbformat": 4,
  "nbformat_minor": 0,
  "metadata": {
    "colab": {
      "provenance": [],
      "mount_file_id": "18wjHYXIGl8DzuDieTvxsSJV0SOPvARyv",
      "authorship_tag": "ABX9TyMaWD7IvRA9xHLYrrUcitC5",
      "include_colab_link": true
    },
    "kernelspec": {
      "name": "python3",
      "display_name": "Python 3"
    },
    "language_info": {
      "name": "python"
    }
  },
  "cells": [
    {
      "cell_type": "markdown",
      "metadata": {
        "id": "view-in-github",
        "colab_type": "text"
      },
      "source": [
        "<a href=\"https://colab.research.google.com/github/sharumithra/sharu-bharatintern/blob/main/spam_sms.ipynb\" target=\"_parent\"><img src=\"https://colab.research.google.com/assets/colab-badge.svg\" alt=\"Open In Colab\"/></a>"
      ]
    },
    {
      "cell_type": "code",
      "execution_count": 2,
      "metadata": {
        "colab": {
          "base_uri": "https://localhost:8080/"
        },
        "id": "7Qfs094oKdB9",
        "outputId": "30a1865e-9754-4fd6-c955-76eb3accfb4c"
      },
      "outputs": [
        {
          "output_type": "stream",
          "name": "stdout",
          "text": [
            "SMS: hey! I am your friend\n",
            "Predicted label: ham\n",
            "---------------------------------------\n",
            "SMS: congratulation you passed the exam\n",
            "Predicted label: ham\n",
            "---------------------------------------\n"
          ]
        }
      ],
      "source": [
        "import pandas as pd\n",
        "from sklearn.feature_extraction.text import TfidfVectorizer\n",
        "from sklearn.naive_bayes import MultinomialNB\n",
        "from sklearn.model_selection import train_test_split\n",
        "data = pd.read_csv('/content/drive/MyDrive/spam.csv', sep='\\t', header=None, names=['label', 'message'])\n",
        "data['message'] = data['message'].apply(lambda x: x.lower())\n",
        "X_train, X_test, y_train, y_test = train_test_split(data['message'], data['label'], test_size=0.2)\n",
        "vectorizer = TfidfVectorizer()\n",
        "X_train_vector = vectorizer.fit_transform(X_train)\n",
        "X_test_vector = vectorizer.transform(X_test)\n",
        "model = MultinomialNB()\n",
        "model.fit(X_train_vector, y_train)\n",
        "New = [\"hey! I am your friend\",\"congratulation you passed the exam\"]\n",
        "New_vector = vectorizer.transform(New)\n",
        "Predictions = model.predict(New_vector)\n",
        "for sms, prediction in zip(New, Predictions):\n",
        "    print(f\"SMS: {sms}\")\n",
        "    print(f\"Predicted label: {prediction}\")\n",
        "    print(\"---------------------------------------\")"
      ]
    }
  ]
}